{
 "cells": [
  {
   "cell_type": "code",
   "execution_count": 4,
   "metadata": {
    "collapsed": false
   },
   "outputs": [],
   "source": [
    "#Import the stuff that is done by now\n",
    "\n",
    "from IPython.display import display\n",
    "\n",
    "import time\n",
    "import importlib\n",
    "import sys\n",
    "try:\n",
    "    importlib.reload(sys.modules['Simulation_loop_copy'])\n",
    "    importlib.reload(sys.modules['dijkstra_copy'])\n",
    "    importlib.reload(sys.modules['Initialize_agents'])\n",
    "    importlib.reload(sys.modules['Initialize_graph'])\n",
    "except KeyError:\n",
    "    pass\n",
    "\n",
    "import networkx as nx\n",
    "import matplotlib.pyplot as plt\n",
    "import matplotlib.patches as mpatches\n",
    "import matplotlib\n",
    "import random as rd\n",
    "import numpy as np\n",
    "\n",
    "from copy import deepcopy\n",
    "\n",
    "from Initialize_graph import create_weighted_random_graph, draw_graph\n",
    "from Initialize_agents import Agent, create_list_of_agents\n",
    "\n",
    "from dijkstra_copy import find_index_2_levels, calculate_subjective_weight_for_edge_time,\\\n",
    "calculate_subjective_weight_for_edge_time_overall, dijkstra_with_time_dependent_weights, get_path, get_discount\n",
    "\n",
    "from Simulation_loop_copy import simulation_baseline\n",
    "from Simulation_loop_copy import simulation_navigator\n",
    "from Simulation_loop_copy import simulation_PTA\n",
    "from Simulation_loop_copy import dynamic_system\n",
    "\n",
    "from testing import check_paths_and_travel_times\n",
    "from testing import check_FIFO_property_baseline\n",
    "from testing import check_expectations\n",
    "from testing import check_reality"
   ]
  },
  {
   "cell_type": "code",
   "execution_count": 6,
   "metadata": {
    "collapsed": false
   },
   "outputs": [],
   "source": [
    "# Initialize graph\n",
    "G = create_weighted_random_graph(n_nodes = 5, \n",
    "                                 n_edges = 15, \n",
    "                                 weights_from = 10, \n",
    "                                 weights_to = 30, time_slot_size = 0.01)"
   ]
  },
  {
   "cell_type": "code",
   "execution_count": null,
   "metadata": {
    "collapsed": false
   },
   "outputs": [],
   "source": []
  },
  {
   "cell_type": "code",
   "execution_count": 8,
   "metadata": {
    "collapsed": false
   },
   "outputs": [
    {
     "data": {
      "image/png": "[encoded data removed]",
      "text/plain": [
       "<matplotlib.figure.Figure at 0x10c785400>"
      ]
     },
     "metadata": {},
     "output_type": "display_data"
    }
   ],
   "source": [
    "# Draw graph\n",
    "#draw_graph(G, 'spectral')\n",
    "draw_graph(G)"
   ]
  },
  {
   "cell_type": "code",
   "execution_count": 9,
   "metadata": {
    "collapsed": true
   },
   "outputs": [],
   "source": [
    "# Initialize agents\n",
    "agents = create_list_of_agents(num_agents = 1500, \n",
    "                               graph = G, \n",
    "                               time_stamp = 0.01,\n",
    "                               navi_user_prob = 0.75,\n",
    "                               PTA_user_prob = 0.75)"
   ]
  },
  {
   "cell_type": "code",
   "execution_count": 10,
   "metadata": {
    "collapsed": false
   },
   "outputs": [],
   "source": [
    "# Initialize simulation\n",
    "simulation = simulation_baseline(G, agents, max_time = 24)"
   ]
  },
  {
   "cell_type": "code",
   "execution_count": 11,
   "metadata": {
    "collapsed": false
   },
   "outputs": [
    {
     "name": "stdout",
     "output_type": "stream",
     "text": [
      "End of iteration 0 . Time elapsed: 35.52 sec\n",
      "End of iteration 1 . Time elapsed: 66.04 sec\n",
      "End of iteration 2 . Time elapsed: 81.58 sec\n",
      "End of iteration 3 . Time elapsed: 47.79 sec\n",
      "End of iteration 4 . Time elapsed: 46.09 sec\n",
      "End of iteration 5 . Time elapsed: 39.67 sec\n",
      "End of iteration 6 . Time elapsed: 42.25 sec\n",
      "End of iteration 7 . Time elapsed: 40.67 sec\n",
      "End of iteration 8 . Time elapsed: 41.14 sec\n",
      "End of iteration 9 . Time elapsed: 42.45 sec\n",
      "End of iteration 10 . Time elapsed: 42.7 sec\n",
      "End of iteration 11 . Time elapsed: 44.16 sec\n",
      "End of iteration 12 . Time elapsed: 45.05 sec\n",
      "End of iteration 13 . Time elapsed: 45.83 sec\n",
      "End of iteration 14 . Time elapsed: 47.36 sec\n",
      "End of iteration 15 . Time elapsed: 48.43 sec\n",
      "End of iteration 16 . Time elapsed: 49.05 sec\n",
      "End of iteration 17 . Time elapsed: 50.83 sec\n",
      "End of iteration 18 . Time elapsed: 51.37 sec\n",
      "End of iteration 19 . Time elapsed: 52.91 sec\n",
      "End of simulation . Time elapsed: 961.56 sec\n"
     ]
    }
   ],
   "source": [
    "# Make simulation\n",
    "simulation.restore_all_agents_finally()\n",
    "simulation.simulation_optimized(max_iters = 20)"
   ]
  },
  {
   "cell_type": "code",
   "execution_count": null,
   "metadata": {
    "collapsed": false
   },
   "outputs": [],
   "source": []
  },
  {
   "cell_type": "code",
   "execution_count": 12,
   "metadata": {
    "collapsed": false
   },
   "outputs": [
    {
     "data": {
      "text/plain": [
       "[4336.14,\n",
       " 6112.45,\n",
       " 6937.63,\n",
       " 5417.5,\n",
       " 5360.36,\n",
       " 4744.45,\n",
       " 4632.81,\n",
       " 4448.59,\n",
       " 4428.08,\n",
       " 4395.13,\n",
       " 4381.69,\n",
       " 4379.44,\n",
       " 4377.89,\n",
       " 4378.75,\n",
       " 4378.15,\n",
       " 4375.68,\n",
       " 4374.17,\n",
       " 4373.21,\n",
       " 4375.69,\n",
       " 4374.34]"
      ]
     },
     "metadata": {},
     "output_type": "display_data"
    }
   ],
   "source": [
    "#Comparison of total travel times: Baseline through iterations\n",
    "def compare_results_base(base):\n",
    "    overall_base_list = []\n",
    "    for iteration in range(len(base.common_sense)):\n",
    "        overall_base = 0\n",
    "        for i in range(len(base.common_sense[iteration])):\n",
    "            for p in range(len(base.common_sense[iteration][i].paths)):\n",
    "                overall_base += base.common_sense[iteration][i].real_edge_times[p][-1][-1] \\\n",
    "                - base.common_sense[iteration][i].real_edge_times[p][0][0]\n",
    "        overall_base_list.append(round(overall_base, 2))\n",
    "    return overall_base_list\n",
    "display(compare_results_base(simulation))\n",
    "#display(simulation.paths_changed)\n",
    "#compare_results_base(simulation) == old"
   ]
  },
  {
   "cell_type": "code",
   "execution_count": 24,
   "metadata": {
    "collapsed": false
   },
   "outputs": [],
   "source": [
    "check_paths_and_travel_times(simulation)\n",
    "check_expectations(simulation)\n",
    "check_reality(simulation)"
   ]
  },
  {
   "cell_type": "code",
   "execution_count": null,
   "metadata": {
    "collapsed": true
   },
   "outputs": [],
   "source": [
    "# Statistical info checks"
   ]
  },
  {
   "cell_type": "code",
   "execution_count": null,
   "metadata": {
    "collapsed": false
   },
   "outputs": [],
   "source": [
    "# Find agent who came or left the edge at time = t\n",
    "def find_agent_time(simulation, time, iteration):\n",
    "    for a in simulation.common_sense[iteration]:\n",
    "        for p in range(len(a.paths)):\n",
    "            for edge_num in range(len(a.paths[p])-1):\n",
    "                if a.real_edge_times[p][edge_num][0] == time:\n",
    "                    print('ID', a.id_num, 'Path', p, 'Edge', (a.paths[p][edge_num], a.paths[p][edge_num+1]))\n",
    "find_agent_time(simulation = simulation, time = 13.72, iteration = 9)"
   ]
  },
  {
   "cell_type": "code",
   "execution_count": null,
   "metadata": {
    "collapsed": true
   },
   "outputs": [],
   "source": [
    "# Check to see id's of agents who arrive later than some time (currently 28)\n",
    "for iteration in range(len(simulation.common_sense)):\n",
    "    for a in simulation.common_sense[iteration]:\n",
    "        for p in range(len(a.paths)):\n",
    "            for edge in range(len(a.real_edge_times[p])):\n",
    "                if a.real_edge_times[p][edge][1] >= 24:\n",
    "                    print('Iteration', iteration, 'ID', a.id_num, 'Path', p)"
   ]
  },
  {
   "cell_type": "code",
   "execution_count": null,
   "metadata": {
    "collapsed": false
   },
   "outputs": [],
   "source": [
    "# Function that outputs the id's of agents whose expectations about travel times for a trip\n",
    "# are confronted by reality and the difference between them is more than value\n",
    "# Works as intended only for iter == 0\n",
    "\n",
    "def differences_between_expectations_and_reality(agents, value):\n",
    "    for a in agents:\n",
    "        for p in range(len(a.paths)):\n",
    "            for edge in range(len(a.real_edge_times[p])):\n",
    "                if a.real_edge_times[p][edge][1] - a.expected_edge_times[p][edge][1] >= value:\n",
    "                    print('ID', a.id_num, 'Path', p)\n",
    "                    \n",
    "differences_between_expectations_and_reality(agents = simulation.common_sense[0], value = 1.4)"
   ]
  },
  {
   "cell_type": "code",
   "execution_count": null,
   "metadata": {
    "collapsed": false
   },
   "outputs": [],
   "source": [
    "# Prints info about i'th agent in iteration's simulation\n",
    "\n",
    "iteration = 0\n",
    "i = 2\n",
    "print('------AGENT %s------' %i)\n",
    "print('Num of trips', simulation.common_sense[iteration][i].num_trips)\n",
    "print('Paths', simulation.common_sense[iteration][i].paths)\n",
    "print('Departures', simulation.common_sense[iteration][i].times_of_departures)\n",
    "print('---------------------------------------------------------------------------------------------------')\n",
    "print('Expected_edge_times', simulation.common_sense[iteration][i].expected_edge_times)\n",
    "print('---------------------------------------------------------------------------------------------------')\n",
    "print('real_edge_times', simulation.common_sense[iteration][i].real_edge_times)\n",
    "print('---------------------------------------------------------------------------------------------------')\n",
    "print('Speed by time', simulation.common_sense[iteration][i].speed_by_time)\n",
    "print('---------------------------------------------------------------------------------------------------')\n",
    "print('Edges passed', simulation.common_sense[iteration][i].edges_passed)\n",
    "print('---------------------------------------------------------------------------------------------------')\n",
    "print('Original departures', simulation.common_sense[iteration][i].original_times_of_departures)"
   ]
  },
  {
   "cell_type": "code",
   "execution_count": null,
   "metadata": {
    "collapsed": false
   },
   "outputs": [],
   "source": [
    "# Outputs the id's of agents whose real_travel_times changed from previous to current iteration\n",
    "\n",
    "counter_overall = [0]*(len(simulation.common_sense)-1)\n",
    "counter_agents = [[0]*len(simulation.common_sense[0]) for i in range(len(simulation.common_sense)-1)]\n",
    "for iteration in range(1,len(simulation.common_sense)):\n",
    "    for a in simulation.common_sense[iteration]:\n",
    "        for p in range(0,len(a.paths)):\n",
    "            if a.real_edge_times[p][0][0] - a.real_edge_times[p][-1][1] != \\\n",
    "            simulation.common_sense[iteration-1][a.id_num].real_edge_times[p][0][0]\\\n",
    "            - simulation.common_sense[iteration-1][a.id_num].real_edge_times[p][-1][1]:\n",
    "                #print('Iteration', iteration, 'ID', a.id_num, 'Path', p)\n",
    "                counter_overall[iteration-1] += 1\n",
    "                counter_agents[iteration-1][a.id_num] += 1\n",
    "\n",
    "print('--------------------------------------------------------------------')\n",
    "# Counter shows how many trips per iteration were influenced by the changes \n",
    "# in paths of others (or the agent himself).\n",
    "print('Counter:', counter_overall)\n",
    "\n",
    "counter_agents_out = [0]*len(counter_agents)\n",
    "for i in range(len(counter_agents)):\n",
    "    for id_num in range(len(counter_agents[i])):\n",
    "        if counter_agents[i][id_num] != 0:\n",
    "            counter_agents_out[i] += 1\n",
    "# This counter shows how many agents per iteration experienced changes in times of trips\n",
    "print('Counter for agents', counter_agents_out)"
   ]
  },
  {
   "cell_type": "code",
   "execution_count": null,
   "metadata": {
    "collapsed": true
   },
   "outputs": [],
   "source": [
    "#Simulation navigator\n",
    "for a in agents:\n",
    "    a.navigator_user = np.random.choice((True, False), p = [0.5, 0.5])\n",
    "    a.PTA_user = np.random.choice((True, False), p = [0.5, 0.5])"
   ]
  },
  {
   "cell_type": "code",
   "execution_count": 14,
   "metadata": {
    "collapsed": false
   },
   "outputs": [],
   "source": [
    "#Initialize simulation navigator\n",
    "simulation2 = simulation_navigator(graph = G, agents = agents, max_time = simulation.max_time, \\\n",
    "                                   common_sense = deepcopy(simulation.common_sense))"
   ]
  },
  {
   "cell_type": "code",
   "execution_count": 15,
   "metadata": {
    "collapsed": false
   },
   "outputs": [
    {
     "name": "stdout",
     "output_type": "stream",
     "text": [
      "End of iteration 0 . Time elapsed: 78.41 sec\n",
      "End of iteration 1 . Time elapsed: 82.59 sec\n",
      "End of iteration 2 . Time elapsed: 78.27 sec\n",
      "End of iteration 3 . Time elapsed: 79.19 sec\n",
      "End of iteration 4 . Time elapsed: 79.48 sec\n",
      "End of iteration 5 . Time elapsed: 80.31 sec\n",
      "End of iteration 6 . Time elapsed: 82.17 sec\n",
      "End of iteration 7 . Time elapsed: 81.78 sec\n",
      "End of iteration 8 . Time elapsed: 81.92 sec\n",
      "End of iteration 9 . Time elapsed: 82.45 sec\n",
      "End of iteration 10 . Time elapsed: 83.72 sec\n",
      "End of iteration 11 . Time elapsed: 83.29 sec\n",
      "End of iteration 12 . Time elapsed: 85.26 sec\n",
      "End of iteration 13 . Time elapsed: 82.58 sec\n",
      "End of iteration 14 . Time elapsed: 83.25 sec\n",
      "End of iteration 15 . Time elapsed: 82.9 sec\n",
      "End of iteration 16 . Time elapsed: 85.32 sec\n",
      "End of iteration 17 . Time elapsed: 84.01 sec\n",
      "End of iteration 18 . Time elapsed: 84.0 sec\n",
      "End of iteration 19 . Time elapsed: 84.95 sec\n",
      "End of simulation . Time elapsed: 1645.89 sec\n"
     ]
    }
   ],
   "source": [
    "#Make simulation\n",
    "simulation2.restore_all_agents_finally()\n",
    "simulation2.simulation_optimized(max_iters = 20)"
   ]
  },
  {
   "cell_type": "code",
   "execution_count": null,
   "metadata": {
    "collapsed": false
   },
   "outputs": [],
   "source": [
    "#Simulation PTA\n",
    "for a in agents:\n",
    "    a.navigator_user = np.random.choice((True, False), p = [1.0, 0.0])\n",
    "    a.PTA_user = np.random.choice((True, False), p = [1.0, 0.0])"
   ]
  },
  {
   "cell_type": "code",
   "execution_count": 16,
   "metadata": {
    "collapsed": false
   },
   "outputs": [],
   "source": [
    "#Initialize simulation\n",
    "simulation3 = simulation_PTA(graph = G, agents = agents, max_time = simulation2.max_time, \\\n",
    "               historical_data = simulation2.statistics[0], \\\n",
    "               common_sense = deepcopy(simulation.common_sense), \\\n",
    "               cars_ahead = simulation2.cars_ahead)"
   ]
  },
  {
   "cell_type": "code",
   "execution_count": 17,
   "metadata": {
    "collapsed": false
   },
   "outputs": [
    {
     "name": "stdout",
     "output_type": "stream",
     "text": [
      "Preprocessing is done in 21.35 sec\n",
      "End of iteration 0 . Time elapsed: 155.43 sec\n",
      "End of iteration 1 . Time elapsed: 202.4 sec\n",
      "End of iteration 2 . Time elapsed: 240.99 sec\n",
      "End of iteration 3 . Time elapsed: 270.77 sec\n",
      "End of iteration 4 . Time elapsed: 294.45 sec\n",
      "End of iteration 5 . Time elapsed: 319.6 sec\n",
      "End of iteration 6 . Time elapsed: 344.33 sec\n",
      "End of iteration 7 . Time elapsed: 358.05 sec\n",
      "End of iteration 8 . Time elapsed: 371.17 sec\n",
      "End of iteration 9 . Time elapsed: 388.18 sec\n",
      "End of iteration 10 . Time elapsed: 402.76 sec\n",
      "End of iteration 11 . Time elapsed: 413.09 sec\n",
      "End of iteration 12 . Time elapsed: 427.32 sec\n",
      "End of iteration 13 . Time elapsed: 435.22 sec\n",
      "End of iteration 14 . Time elapsed: 445.93 sec\n",
      "End of simulation . Time elapsed: 5091.09 sec\n"
     ]
    }
   ],
   "source": [
    "#Make simulation\n",
    "simulation3.restore_all_agents_finally()\n",
    "simulation3.simulation_optimized(max_iters = 15)"
   ]
  },
  {
   "cell_type": "code",
   "execution_count": null,
   "metadata": {
    "collapsed": false
   },
   "outputs": [],
   "source": [
    "#Statistical info checks for all 3 simulations"
   ]
  },
  {
   "cell_type": "code",
   "execution_count": 20,
   "metadata": {
    "collapsed": false
   },
   "outputs": [
    {
     "name": "stdout",
     "output_type": "stream",
     "text": [
      "Base 2350 Absolute 749\n",
      "Navi 2472 Absolute 1085\n",
      "PTA 2599 Absolute 956\n",
      "Equal times 1021\n"
     ]
    },
    {
     "data": {
      "text/plain": [
       "4595"
      ]
     },
     "execution_count": 20,
     "metadata": {},
     "output_type": "execute_result"
    }
   ],
   "source": [
    "#Comparison of number of paths of agents by the source of their assignment (Baseline vs Navi vs PTA)\n",
    "counter_navi = 0\n",
    "counter_base = 0\n",
    "counter_PTA = 0\n",
    "absolute_base = 0\n",
    "absolute_navi = 0\n",
    "absolute_PTA = 0\n",
    "changed_paths = 0\n",
    "equal = 0\n",
    "p_overall = 0\n",
    "\n",
    "for i in range(len(simulation.statistics[0])):\n",
    "    for p in range(len(simulation.statistics[0][i].paths)):\n",
    "        p_overall += 1\n",
    "        \n",
    "        diff_base = \\\n",
    "        simulation.statistics[0][i].real_edge_times[p][-1][-1] \\\n",
    "        - simulation.statistics[0][i].real_edge_times[p][0][0]\n",
    "        \n",
    "        diff_navi = \\\n",
    "        simulation2.statistics[0][i].real_edge_times[p][-1][-1] \\\n",
    "        - simulation2.statistics[0][i].real_edge_times[p][0][0]\n",
    "        \n",
    "        diff_PTA = \\\n",
    "        simulation3.statistics[0][i].real_edge_times[p][-1][-1] \\\n",
    "        - simulation3.statistics[0][i].real_edge_times[p][0][0]\n",
    "\n",
    "        min_val = min(diff_base, diff_navi, diff_PTA)\n",
    "        if min_val == diff_base:\n",
    "            counter_base += 1\n",
    "        if min_val == diff_navi:\n",
    "            counter_navi += 1\n",
    "        if min_val == diff_PTA:\n",
    "            counter_PTA += 1\n",
    "        if min_val == diff_base and min_val != diff_navi and min_val != diff_PTA:\n",
    "            absolute_base += 1\n",
    "        if min_val == diff_navi and min_val != diff_base and min_val != diff_PTA:\n",
    "            absolute_navi += 1\n",
    "        if min_val == diff_PTA and min_val != diff_base and min_val != diff_navi:\n",
    "            absolute_PTA += 1\n",
    "        if min_val == diff_PTA and min_val == diff_base and min_val == diff_navi:\n",
    "            equal += 1\n",
    "            \n",
    "print('Base', counter_base, 'Absolute', absolute_base)\n",
    "print('Navi', counter_navi, 'Absolute', absolute_navi)\n",
    "print('PTA', counter_PTA, 'Absolute', absolute_PTA)\n",
    "print('Equal times', equal)\n",
    "p_overall"
   ]
  },
  {
   "cell_type": "code",
   "execution_count": null,
   "metadata": {
    "collapsed": true
   },
   "outputs": [],
   "source": [
    "Base 2350 Absolute 749\n",
    "Navi 2472 Absolute 1085\n",
    "PTA 2599 Absolute 956\n",
    "Equal times 1021\n",
    "Out[20]:\n",
    "4595"
   ]
  },
  {
   "cell_type": "code",
   "execution_count": 21,
   "metadata": {
    "collapsed": false
   },
   "outputs": [
    {
     "data": {
      "text/plain": [
       "(4374.34, 4366.32, 4335.17)"
      ]
     },
     "execution_count": 21,
     "metadata": {},
     "output_type": "execute_result"
    }
   ],
   "source": [
    "#Comparison of total travel times: Baseline vs Navigator vs PTA\n",
    "def compare_results(base, navi, PTA):\n",
    "    overall_base = 0\n",
    "    overall_navi = 0\n",
    "    overall_PTA = 0\n",
    "    for i in range(len(base.statistics[0])):\n",
    "        for p in range(len(base.statistics[0][i].paths)):\n",
    "            overall_base += base.statistics[0][i].real_edge_times[p][-1][-1] \\\n",
    "            - base.statistics[0][i].real_edge_times[p][0][0]\n",
    "            overall_navi += navi.statistics[0][i].real_edge_times[p][-1][-1] \\\n",
    "            - navi.statistics[0][i].real_edge_times[p][0][0]\n",
    "            overall_PTA += PTA.statistics[0][i].real_edge_times[p][-1][-1]\\\n",
    "            - PTA.statistics[0][i].real_edge_times[p][0][0]\n",
    "    #print('Base', round(overall_base, 2))\n",
    "    #print('Navi', round(overall_navi, 2))\n",
    "    #print('PTA', round(overall_PTA, 2))\n",
    "    return round(overall_base, 2), round(overall_navi, 2), round(overall_PTA, 2)\n",
    "compare_results(simulation, simulation2, simulation3)"
   ]
  },
  {
   "cell_type": "code",
   "execution_count": null,
   "metadata": {
    "collapsed": true
   },
   "outputs": [],
   "source": [
    "(4374.34, 4366.32, 4335.17)"
   ]
  },
  {
   "cell_type": "code",
   "execution_count": null,
   "metadata": {
    "collapsed": false,
    "scrolled": true
   },
   "outputs": [],
   "source": [
    "#Function that calculates the differences between expected and real edge times\n",
    "#for every agent in a gien simulation\n",
    "def get_diff_exp_real_trav_times(simulation, metric = 'full'):\n",
    "    diff_list = dict((a, []) for a in range(len(simulation.statistics[0])))\n",
    "    index = len(simulation.statistics) - 1\n",
    "    for a in simulation.statistics[index]:\n",
    "        for p in range(len(a.paths)):\n",
    "            trav_time_real = a.real_edge_times[p][-1][-1] - a.real_edge_times[p][0][0]\n",
    "            trav_time_exp = a.expected_edge_times[p][-1][-1] - a.expected_edge_times[p][0][0]\n",
    "            diff_exp_reality = abs(trav_time_real - trav_time_exp)\n",
    "            diff_list[a.id_num].append(diff_exp_reality)\n",
    "    if metric == 'full':\n",
    "        return diff_list\n",
    "    elif metric == 'average':\n",
    "        aver_agent = []\n",
    "        for val in diff_list.values():\n",
    "            aver_agent.append(sum(val)/len(val))\n",
    "        return round(sum(aver_agent)/len(aver_agent), 4)\n",
    "    elif metric == 'maximum':\n",
    "        max_list = []\n",
    "        for key, values in diff_list.items():\n",
    "            max_list.append((key, max(values)))\n",
    "        max_value = max(max_list, key = lambda x: x[1])\n",
    "        return round(max_value[1], 3)\n",
    "\n",
    "print('Average difference base', get_diff_exp_real_trav_times(simulation, metric = 'average'))\n",
    "print('Average difference navi', get_diff_exp_real_trav_times(simulation2, metric = 'average'))\n",
    "print('Average difference PTA', get_diff_exp_real_trav_times(simulation3, metric = 'average'))"
   ]
  },
  {
   "cell_type": "code",
   "execution_count": null,
   "metadata": {
    "collapsed": false
   },
   "outputs": [],
   "source": []
  },
  {
   "cell_type": "code",
   "execution_count": null,
   "metadata": {
    "collapsed": false
   },
   "outputs": [],
   "source": []
  },
  {
   "cell_type": "code",
   "execution_count": null,
   "metadata": {
    "collapsed": false
   },
   "outputs": [],
   "source": []
  },
  {
   "cell_type": "code",
   "execution_count": null,
   "metadata": {
    "collapsed": false
   },
   "outputs": [],
   "source": [
    "cong_hist_data2 = dict((e, dict((t, [0, []]) for t in range(0, int(simulation3.max_time / 0.01) + 1))) \\\n",
    "                    for e in simulation3.graph.edges())\n",
    "for a in simulation3.statistics[0]:\n",
    "    for p in range(len(a.paths)):\n",
    "        for edge_num in range(len(a.paths[p])-1):\n",
    "            start_time = a.real_edge_times[p][edge_num][0]\n",
    "            finish_time = a.real_edge_times[p][edge_num][1]\n",
    "            start_time = int(round(start_time / 0.01))\n",
    "            finish_time = int(round(finish_time / 0.01))\n",
    "            edge = a.edges_passed[p][edge_num]\n",
    "            #time_range = finish_time - start_time\n",
    "            #for time in range(0, int(round(time_range / 0.01)) + 1):\n",
    "            for time in range(start_time, finish_time + 1):\n",
    "                cong_hist_data2[edge][time][0] += 1\n",
    "                if time == finish_time:\n",
    "                    cong_hist_data2[edge][time][1].append('l')"
   ]
  },
  {
   "cell_type": "code",
   "execution_count": null,
   "metadata": {
    "collapsed": false
   },
   "outputs": [],
   "source": [
    "for edge, time_list in cong_hist_data2.items():\n",
    "    for t in range(len(time_list)):\n",
    "        if cong_hist_data2[edge][t] != simulation3.trips_data[edge][t]:\n",
    "            print('Time', t, 'Edge', edge)\n",
    "            print('Real', cong_hist_data2[edge][t], 'Predicted', simulation3.trips_data[edge][t])"
   ]
  },
  {
   "cell_type": "code",
   "execution_count": null,
   "metadata": {
    "collapsed": false
   },
   "outputs": [],
   "source": []
  },
  {
   "cell_type": "code",
   "execution_count": null,
   "metadata": {
    "collapsed": true
   },
   "outputs": [],
   "source": [
    "#Stuff for making simulations below"
   ]
  },
  {
   "cell_type": "code",
   "execution_count": null,
   "metadata": {
    "collapsed": true
   },
   "outputs": [],
   "source": [
    "from multiprocessing import Pool\n",
    "import pandas as pd"
   ]
  },
  {
   "cell_type": "code",
   "execution_count": null,
   "metadata": {
    "collapsed": false
   },
   "outputs": [],
   "source": [
    "def make_results(num_iters_per_graph, num_proportions, init_agents = 400):\n",
    "    data = dict()\n",
    "    G = create_weighted_random_graph(n_nodes = 5, n_edges = 15, weights_from = 10, \\\n",
    "                                     weights_to = 30, time_slot_size = 0.01)\n",
    "    data['graph'] = G\n",
    "    data_loop = [[dict() for j in range(num_proportions)] for g in range(num_iters_per_graph)]\n",
    "    for i in range(num_iters_per_graph):\n",
    "        agents = create_list_of_agents(num_agents = init_agents * (i + 2), graph = G, time_stamp = 0.01, \n",
    "                                   navi_user_prob = 1.0, PTA_user_prob = 1.0)\n",
    "        \n",
    "        simulation = simulation_baseline(G, agents, max_time = 24)\n",
    "        simulation.restore_all_agents_finally()\n",
    "        simulation.simulation_optimized(max_iters = 30)\n",
    "        check_expectations(simulation)\n",
    "        check_reality(simulation)\n",
    "        check_paths_and_travel_times(simulation)\n",
    "        \n",
    "        for k in range(num_proportions):\n",
    "            proportion = (k + 1)*(1/num_proportions)\n",
    "            for a in agents:\n",
    "                a.navigator_user = np.random.choice((True, False), p = [proportion, 1 - proportion])\n",
    "                a.PTA_user = np.random.choice((True, False), p = [proportion, 1 - proportion])\n",
    "\n",
    "            simulation2 = simulation_navigator(graph = G, agents = agents, max_time = simulation.max_time, \\\n",
    "                                   common_sense = deepcopy(simulation.common_sense))\n",
    "            simulation2.restore_all_agents_finally()\n",
    "            simulation2.simulation_optimized(max_iters = 10)\n",
    "            check_expectations(simulation2)\n",
    "            check_reality(simulation2)\n",
    "            check_paths_and_travel_times(simulation2)\n",
    "            data_loop[i][k]['prop_navi_users'] = simulation2.proportion_users\n",
    "\n",
    "            simulation3 = simulation_PTA(graph = G, agents = agents, max_time = simulation2.max_time + 4, \\\n",
    "                       historical_data = simulation2.statistics[0], \\\n",
    "                       common_sense = deepcopy(simulation.common_sense), \\\n",
    "                       cars_ahead = simulation2.cars_ahead)\n",
    "            simulation3.restore_all_agents_finally()\n",
    "            simulation3.simulation_optimized(max_iters = 10)\n",
    "            check_expectations(simulation3)\n",
    "            check_reality(simulation3)\n",
    "            check_paths_and_travel_times(simulation3)\n",
    "            data_loop[i][k]['prop_PTA_users'] = simulation3.proportion_users\n",
    "\n",
    "            data_loop[i][k]['TTT_base'] = list(compare_results(simulation, simulation2, simulation3))[0]\n",
    "            data_loop[i][k]['TTT_navi'] = list(compare_results(simulation, simulation2, simulation3))[1]\n",
    "            data_loop[i][k]['TTT_PTA'] = list(compare_results(simulation, simulation2, simulation3))[2]\n",
    "            data_loop[i][k]['diff_base'] = get_diff_exp_real_trav_times(simulation, metric = 'average')\n",
    "            data_loop[i][k]['diff_navi'] = get_diff_exp_real_trav_times(simulation2, metric = 'average')\n",
    "            data_loop[i][k]['diff_PTA'] = get_diff_exp_real_trav_times(simulation3, metric = 'average')\n",
    "            \n",
    "            cntr = 0\n",
    "            for a in simulation.agents:\n",
    "                    cntr += a.num_trips\n",
    "            data_loop[i][k]['path_count'] = cntr\n",
    "            \n",
    "            data_loop[i][k]['convergence_base'] = compare_results_base(simulation)\n",
    "            data_loop[i][k]['convergence_navi'] = compare_results_base(simulation2)\n",
    "            data_loop[i][k]['convergence_PTA'] = compare_results_base(simulation3)\n",
    "            print('-----------------------------------------------------------------------------------')\n",
    "            print('------------------------------End of proportion iteration', k, '---------------------------')\n",
    "        \n",
    "        #Dynamic simulation with PTA\n",
    "        dynamic_simulation = dynamic_system(graph = G, agents = agents, max_time = simulation2.max_time + 4,\n",
    "                                    historical_data = simulation2.statistics[0],\n",
    "                                    common_sense = deepcopy(simulation.common_sense),\n",
    "                                    cars_ahead = simulation2.cars_ahead, all_three = True)\n",
    "        dynamic_simulation.restore_all_agents_finally()\n",
    "        dynamic_simulation.simulation_optimized(max_iters = 20)\n",
    "        check_expectations(dynamic_simulation)\n",
    "        check_reality(dynamic_simulation)\n",
    "        check_paths_and_travel_times(dynamic_simulation)\n",
    "        data_loop[i][0]['decomposition'] = user_decomposition(dynamic_simulation)\n",
    "        data_loop[i][0]['TTT_DS'] = list(compare_results(dynamic_simulation, simulation2, simulation3))[0]\n",
    "        data_loop[i][0]['diff_DS'] = get_diff_exp_real_trav_times(dynamic_simulation, metric = 'average')\n",
    "        data_loop[i][0]['convergence_DS'] = compare_results_base(dynamic_simulation)\n",
    "        del dynamic_simulation\n",
    "        \n",
    "        #Dynamic simulation without PTA\n",
    "        dynamic_simulation2 = dynamic_system(graph = G, agents = agents, max_time = simulation2.max_time + 3,\n",
    "                                    historical_data = simulation2.statistics[0],\n",
    "                                    common_sense = deepcopy(simulation.common_sense),\n",
    "                                    cars_ahead = simulation2.cars_ahead, all_three = False)\n",
    "        dynamic_simulation2.restore_all_agents_finally()\n",
    "        dynamic_simulation2.simulation_optimized(max_iters = 20)\n",
    "        check_expectations(dynamic_simulation2)\n",
    "        check_reality(dynamic_simulation2)\n",
    "        check_paths_and_travel_times(dynamic_simulation2)\n",
    "        data_loop[i][0]['decomposition2'] = user_decomposition(dynamic_simulation2)\n",
    "        data_loop[i][0]['TTT_DS2'] = list(compare_results(dynamic_simulation2, simulation2, simulation3))[0]\n",
    "        data_loop[i][0]['diff_DS2'] = get_diff_exp_real_trav_times(dynamic_simulation2, metric = 'average')\n",
    "        data_loop[i][0]['convergence_DS2'] = compare_results_base(dynamic_simulation2)\n",
    "        del simulation, simulation2, simulation3, dynamic_simulation2\n",
    "        print('-----------------------------------------------------------------------------------')\n",
    "        print('------------------------------End of load iteration', i, '---------------------------')\n",
    "   \n",
    "    print('-----------------------------------------------------------------------------------')\n",
    "    print('------------------------------End of arch iteration---------------------------')\n",
    "    data['loop'] = data_loop\n",
    "    return data"
   ]
  },
  {
   "cell_type": "code",
   "execution_count": null,
   "metadata": {
    "collapsed": false
   },
   "outputs": [],
   "source": [
    "st = time.time()\n",
    "for f in range(1):\n",
    "    data = make_results(4, 4, 400)\n",
    "en = time.time()\n",
    "print('Time elapsed in total', (en - st))"
   ]
  },
  {
   "cell_type": "code",
   "execution_count": null,
   "metadata": {
    "collapsed": false
   },
   "outputs": [],
   "source": [
    "data"
   ]
  },
  {
   "cell_type": "code",
   "execution_count": null,
   "metadata": {
    "collapsed": false
   },
   "outputs": [],
   "source": [
    "#Start of figure-drawing"
   ]
  },
  {
   "cell_type": "code",
   "execution_count": null,
   "metadata": {
    "collapsed": false
   },
   "outputs": [],
   "source": [
    "#Draw a graph on which the results were generated\n",
    "fig = plt.figure(1)\n",
    "#pos = nx.spectral_layout(data['graph'])\n",
    "pos = nx.circular_layout(data['graph'])\n",
    "nx.draw_networkx(data['graph'], pos = pos, node_size = 200, font_size = 10)\n",
    "labels = nx.get_edge_attributes(data['graph'], 'weight')\n",
    "nx.draw_networkx_edge_labels(data['graph'], pos = pos, edge_labels = labels, font_size = 10)\n",
    "plt.axis('off')\n",
    "plt.suptitle('Fig. 8: Randomly generated graph with 5 nodes, 10 edges \\n and weights ranging from 10 to 30', \n",
    "             x = 0.5, y = 0.12, fontsize = 14, fontweight = 'normal')\n",
    "\n",
    "plt.savefig('fig8.png', bbox_inches='tight')\n",
    "plt.show()\n"
   ]
  },
  {
   "cell_type": "code",
   "execution_count": null,
   "metadata": {
    "collapsed": false
   },
   "outputs": [],
   "source": [
    "#Gather tha data for figure-drawing\n",
    "proportion_of_PTA_users = []\n",
    "proportion_of_navi_users = []\n",
    "TTT_base = [[] for u in range(4)]\n",
    "TTT_navi = [[] for u in range(4)]\n",
    "TTT_PTA = [[] for u in range(4)]\n",
    "for i in range(4):\n",
    "    for k in range(len(data['loop'][i])):\n",
    "        proportion_of_PTA_users.append(data['loop'][i][k]['prop_PTA_users'])\n",
    "        proportion_of_navi_users.append(data['loop'][i][k]['prop_navi_users'])\n",
    "        TTT_base[i].append(data['loop'][i][k]['TTT_base'])\n",
    "        TTT_navi[i].append(data['loop'][i][k]['TTT_navi'])\n",
    "        TTT_PTA[i].append(data['loop'][i][k]['TTT_PTA'])\n",
    "#display(proportion_of_PTA_users)\n",
    "#display(TTT_PTA)\n",
    "#display(proportion_of_navi_users)\n",
    "#display(TTT_navi)\n",
    "#display(TTT_base)\n",
    "\n",
    "\n"
   ]
  },
  {
   "cell_type": "code",
   "execution_count": null,
   "metadata": {
    "collapsed": false
   },
   "outputs": [],
   "source": [
    "#Create figure with comaprison of travel times obtained by the methods studied\n",
    "xlabels = np.array([0.25, 0.5, 0.75, 1.0])\n",
    "fig = plt.figure(figsize = (10,7))\n",
    "\n",
    "ax0 = plt.subplot(221)\n",
    "ax0.set_title('800 agents')\n",
    "plt.bar(left = xlabels - 0.03, height = TTT_base[0], width = 0.03, align='center')\n",
    "plt.bar(left = xlabels, height = TTT_navi[0], width = 0.03, color = 'g', align='center')\n",
    "plt.bar(left = xlabels + 0.03, height = TTT_PTA[0], width = 0.03, color = 'r', align='center')\n",
    "plt.xticks(xlabels)\n",
    "ax0.set_ylim(ymin = 750, ymax = 850)\n",
    "plt.yticks([750, 775, 800, 825, 850])\n",
    "\n",
    "ax1 = plt.subplot(222)\n",
    "ax1.set_title('1200 agents')\n",
    "plt.bar(left = xlabels - 0.03, height = TTT_base[1], width = 0.03, align='center')\n",
    "plt.bar(left = xlabels, height = TTT_navi[1], width = 0.03, color = 'g', align='center')\n",
    "plt.bar(left = xlabels + 0.03, height = TTT_PTA[1], width = 0.03, color = 'r', align='center')\n",
    "plt.xticks(xlabels)\n",
    "ax1.set_ylim(ymin = 1200, ymax = 1400)\n",
    "#plt.yticks([500, 600, 800, 900])\n",
    "\n",
    "ax2 = plt.subplot(223)\n",
    "ax2.set_title('1600 agents')\n",
    "plt.bar(left = xlabels - 0.03, height = TTT_base[2], width = 0.03, align='center')\n",
    "plt.bar(left = xlabels, height = TTT_navi[2], width = 0.03, color = 'g', align='center')\n",
    "plt.bar(left = xlabels + 0.03, height = TTT_PTA[2], width = 0.03, color = 'r', align='center')\n",
    "plt.xticks(xlabels)\n",
    "ax2.set_ylim(ymin = 1600, ymax = 2000)\n",
    "plt.yticks([1600, 1700, 1800, 1900, 2000])\n",
    "\n",
    "ax3 = plt.subplot(224)\n",
    "ax3.set_title('2000 agents')\n",
    "plt.bar(left = xlabels - 0.03, height = TTT_base[3], width = 0.03, align='center')\n",
    "plt.bar(left = xlabels, height = TTT_navi[3], width = 0.03, color = 'g', align='center')\n",
    "plt.bar(left = xlabels + 0.03, height = TTT_PTA[3], width = 0.03, color = 'r', align='center')\n",
    "plt.xticks(xlabels)\n",
    "ax3.set_ylim(ymin = 2500, ymax = 2900)\n",
    "plt.yticks([2500, 2600, 2700, 2800, 2900])\n",
    "\n",
    "plt.suptitle('Fig. 11: The performance of baseline, navigator and PTA solutions \\n' \\\n",
    "             + 'with different number of agents in the network \\n' + \n",
    "             \"\\n(hor. axes - proportion of method's users, vert. axes - total travel time of the system)\", \n",
    "             x = 0.5, y = 0.05, fontsize = 14, fontweight = 'normal')\n",
    "\n",
    "blue_patch = mpatches.Patch(color='blue', label='Baseline')\n",
    "green_patch = mpatches.Patch(color='green', label='Navigator')\n",
    "red_patch = mpatches.Patch(color='red', label='PTA')\n",
    "\n",
    "plt.legend(handles=[blue_patch, green_patch, red_patch], \n",
    "           bbox_to_anchor=(1.1, 1.3), loc=2, borderaxespad=0.0)\n",
    "\n",
    "plt.savefig('2fig10.png', bbox_inches='tight')\n",
    "plt.show()\n",
    "\n"
   ]
  },
  {
   "cell_type": "code",
   "execution_count": null,
   "metadata": {
    "collapsed": false
   },
   "outputs": [],
   "source": []
  },
  {
   "cell_type": "code",
   "execution_count": null,
   "metadata": {
    "collapsed": false
   },
   "outputs": [],
   "source": [
    "#Gather the convergence metrics\n",
    "convergence_base = []\n",
    "for i in range(4):\n",
    "    convergence_base.append(data['loop'][i][0]['convergence_base'])\n",
    "#convergence_base\n",
    "len(convergence_base[2])\n"
   ]
  },
  {
   "cell_type": "code",
   "execution_count": null,
   "metadata": {
    "collapsed": false
   },
   "outputs": [],
   "source": [
    "#Create figure with convergence metrics of dynamic simulation\n",
    "fig = plt.figure(figsize = (10,7))\n",
    "\n",
    "ax0 = plt.subplot(221)\n",
    "ax0.set_title('800 agents')\n",
    "plt.plot(convergence_base[0])\n",
    "plt.xticks(list(range(0, len(convergence_base[0]), 1)))\n",
    "#ax0.set_ylim(ymin = 410, ymax = 430)\n",
    "#plt.yticks(list(range(410, 440, 5)))\n",
    "\n",
    "\n",
    "ax1 = plt.subplot(222)\n",
    "ax1.set_title('1200 agents')\n",
    "plt.plot(convergence_base[1])\n",
    "plt.xticks(list(range(0, len(convergence_base[1]), 1)))\n",
    "ax1.set_ylim(ymin = 1320, ymax = 1450)\n",
    "plt.yticks(list(range(1320, 1451, 30)))\n",
    "\n",
    "ax2 = plt.subplot(223)\n",
    "ax2.set_title('1600 agents')\n",
    "plt.plot(convergence_base[2])\n",
    "ax2.set_xlim(xmin = 0, xmax = 26)\n",
    "plt.xticks(list(range(0, len(convergence_base[2]), 3)))\n",
    "#ax2.set_ylim(ymin = 1200, ymax = 2000)\n",
    "plt.yticks(list(range(1800, 2601, 200)))\n",
    "\n",
    "ax3 = plt.subplot(224)\n",
    "ax3.set_title('2000 agents')\n",
    "plt.plot(convergence_base[3])\n",
    "ax3.set_xlim(xmin = 0, xmax = 29)\n",
    "plt.xticks(list(range(0, len(convergence_base[3]), 3)))\n",
    "#ax3.set_ylim(ymin = 2200, ymax = 4000)\n",
    "plt.yticks(list(range(2500, 5501, 750)))\n",
    "\n",
    "plt.suptitle('Fig. 9: The convergence of baseline simulation to SUE with limit on # iterations equal to 30' \n",
    "             + \"\\n\\n(hor. axes - number of iterations, vert. axes - total travel time of the system)\", \n",
    "             x = 0.5, y = 0.05, fontsize = 14, fontweight = 'normal')\n",
    "\n",
    "#plt.savefig('2fig9.png', bbox_inches='tight')\n",
    "plt.show()\n"
   ]
  },
  {
   "cell_type": "code",
   "execution_count": null,
   "metadata": {
    "collapsed": false
   },
   "outputs": [],
   "source": [
    "#Gather the convergence metrics\n",
    "convergence_PTA = []\n",
    "for i in range(4):\n",
    "    convergence_PTA.append(data['loop'][i][0]['convergence_PTA'][len(convergence_base[i]):])\n",
    "#convergence_base\n",
    "len(convergence_PTA[3])\n",
    "\n"
   ]
  },
  {
   "cell_type": "code",
   "execution_count": null,
   "metadata": {
    "collapsed": false
   },
   "outputs": [],
   "source": [
    "#Create figure with convergence metrics of dynamic simulation\n",
    "fig = plt.figure(figsize = (10,7))\n",
    "\n",
    "ax0 = plt.subplot(221)\n",
    "ax0.set_title('800 agents')\n",
    "plt.plot(convergence_PTA[0], color = 'r')\n",
    "ax0.set_ylim(ymin = 820, ymax = 840)\n",
    "#plt.yticks(list(range(410, 440, 5)))\n",
    "\n",
    "\n",
    "ax1 = plt.subplot(222)\n",
    "ax1.set_title('1200 agents')\n",
    "plt.plot(convergence_PTA[1], color = 'r')\n",
    "ax1.set_ylim(ymin = 1310, ymax = 1340)\n",
    "#plt.yticks(list(range(1320, 1451, 30)))\n",
    "y_formatter = matplotlib.ticker.ScalarFormatter(useOffset=False)\n",
    "ax1.yaxis.set_major_formatter(y_formatter)\n",
    "\n",
    "ax2 = plt.subplot(223)\n",
    "ax2.set_title('1600 agents')\n",
    "plt.plot(convergence_PTA[2], color = 'r')\n",
    "ax2.set_ylim(ymin = 1860, ymax = 1900)\n",
    "#plt.yticks(list(range(1800, 2601, 200)))\n",
    "\n",
    "ax3 = plt.subplot(224)\n",
    "ax3.set_title('2000 agents')\n",
    "plt.plot(convergence_PTA[3], color = 'r')\n",
    "ax3.set_ylim(ymin = 2700, ymax = 2900)\n",
    "#plt.yticks(list(range(2500, 5501, 750)))\n",
    "\n",
    "plt.suptitle('Fig. 10: The convergence of PTA simulation to SUE with limit on # iterations equal to 10' \n",
    "             + \"\\n\\n(hor. axes - number of iterations, vert. axes - total travel time of the system)\", \n",
    "             x = 0.5, y = 0.05, fontsize = 14, fontweight = 'normal')\n",
    "\n",
    "#plt.savefig('2fig14.png', bbox_inches='tight')\n",
    "plt.show()"
   ]
  },
  {
   "cell_type": "code",
   "execution_count": null,
   "metadata": {
    "collapsed": true
   },
   "outputs": [],
   "source": []
  },
  {
   "cell_type": "code",
   "execution_count": null,
   "metadata": {
    "collapsed": false
   },
   "outputs": [],
   "source": [
    "#Gather the convergence metrics\n",
    "convergence_DS = []\n",
    "convergence_DS2 = []\n",
    "for i in range(4):\n",
    "    convergence_DS.append(data['loop'][i][0]['convergence_DS'])\n",
    "    convergence_DS2.append(data['loop'][i][0]['convergence_DS2'])\n",
    "#convergence_DS2\n",
    "\n"
   ]
  },
  {
   "cell_type": "code",
   "execution_count": null,
   "metadata": {
    "collapsed": false
   },
   "outputs": [],
   "source": [
    "#Create figure with convergence metrics of dynamic system\n",
    "fig = plt.figure(figsize = (10,7))\n",
    "\n",
    "ax0 = plt.subplot(221)\n",
    "ax0.set_title('800 agents')\n",
    "plt.plot(convergence_DS[0][len(convergence_base[0]):])\n",
    "plt.plot(convergence_DS2[0][len(convergence_base[0]):])\n",
    "plt.xticks(list(range(0, len(convergence_DS[0][len(convergence_base[0]):]), 3)))\n",
    "#ax0.set_ylim(ymin = 415, ymax = 425)\n",
    "#plt.yticks(list(range(415, 426, 2)))\n",
    "\n",
    "\n",
    "ax1 = plt.subplot(222)\n",
    "ax1.set_title('1200 agents')\n",
    "plt.plot(convergence_DS[1][len(convergence_base[1]):])\n",
    "plt.plot(convergence_DS2[1][len(convergence_base[1]):])\n",
    "plt.xticks(list(range(0, len(convergence_DS[1][len(convergence_base[1]):]), 3)))\n",
    "#ax1.set_ylim(ymin = 800, ymax = 820)\n",
    "#plt.yticks(list(range(1315, 1326, 2)))\n",
    "y_formatter = matplotlib.ticker.ScalarFormatter(useOffset=False)\n",
    "ax1.yaxis.set_major_formatter(y_formatter)\n",
    "\n",
    "ax2 = plt.subplot(223)\n",
    "ax2.set_title('1600 agents')\n",
    "plt.plot(convergence_DS[2][len(convergence_base[2]):])\n",
    "plt.plot(convergence_DS2[2][len(convergence_base[2]):])\n",
    "plt.xticks(list(range(0, len(convergence_DS[2][len(convergence_base[2]):]), 3)))\n",
    "#ax2.set_ylim(ymin = 1350, ymax = 1380)\n",
    "#plt.yticks(list(range(1842, 1855, 3)))\n",
    "\n",
    "ax3 = plt.subplot(224)\n",
    "ax3.set_title('2000 agents')\n",
    "plt.plot(convergence_DS[3][len(convergence_base[3]):])\n",
    "plt.plot(convergence_DS2[3][len(convergence_base[3]):])\n",
    "plt.xticks(list(range(0, len(convergence_DS[3][len(convergence_base[3]):]), 3)))\n",
    "#ax3.set_ylim(ymin = 2100, ymax = 2200)\n",
    "#plt.yticks(list(range(2100, 2201, 20)))\n",
    "\n",
    "plt.suptitle('Fig. 12: The convergence of dynamic simulation to SUE across 20 iterations' \n",
    "             + \"\\n\\n(hor. axes - number of iterations, vert. axes - total travel time of the system)\", \n",
    "             x = 0.5, y = 0.05, fontsize = 14, fontweight = 'normal')\n",
    "\n",
    "blue_patch = mpatches.Patch(color='blue', label='dynamic system\\nwith PTA')\n",
    "green_patch = mpatches.Patch(color='green', label='dynamic system\\nwithout PTA')\n",
    "\n",
    "plt.legend(handles=[blue_patch, green_patch], \n",
    "           bbox_to_anchor=(1.1, 1.3), loc=2, borderaxespad=0.0)\n",
    "\n",
    "#plt.savefig('2fig11.png', bbox_inches='tight')\n",
    "plt.show()\n",
    "\n"
   ]
  },
  {
   "cell_type": "code",
   "execution_count": null,
   "metadata": {
    "collapsed": false
   },
   "outputs": [],
   "source": [
    "TTT_DS = []\n",
    "TTT_DS2 = []\n",
    "TTT_base_prox = []\n",
    "for i in range(len(data['loop'])):\n",
    "    TTT_DS.append(data['loop'][i][0]['TTT_DS']/data['loop'][i][0]['path_count'])\n",
    "    TTT_DS2.append(data['loop'][i][0]['TTT_DS2']/data['loop'][i][0]['path_count'])\n",
    "    TTT_base_prox.append(data['loop'][i][0]['TTT_base']/data['loop'][i][0]['path_count'])\n",
    "    \n",
    "#display(TTT_DS)\n",
    "#display(TTT_DS2)\n",
    "#display(TTT_base_prox)\n",
    "a = TTT_DS2[3]/TTT_base_prox[3]\n",
    "b = TTT_DS[3]/TTT_base_prox[3]\n",
    "c = TTT_DS[3]/TTT_DS2[3]\n",
    "#a - b\n",
    "c"
   ]
  },
  {
   "cell_type": "code",
   "execution_count": null,
   "metadata": {
    "collapsed": false
   },
   "outputs": [],
   "source": [
    "#Create figure with comaprison of travel times obtained by the methods studied\n",
    "xlabels = np.array([800, 1200, 1600, 2000])\n",
    "fig = plt.figure(figsize = (10,7))\n",
    "\n",
    "ax0 = plt.subplot(221)\n",
    "plt.bar(left = xlabels - 80, height = TTT_base_prox, width = 80, align='center')\n",
    "plt.bar(left = xlabels, height = TTT_DS2, width = 80, color = 'g', align='center')\n",
    "plt.bar(left = xlabels + 80, height = TTT_DS, width = 80, color = 'r', align='center')\n",
    "ax0.set_xlabel('Number of agents')\n",
    "ax0.set_ylabel('Average travel time')\n",
    "plt.xticks(xlabels)\n",
    "ax0.set_ylim(ymin = 0.3, ymax = 0.46)\n",
    "#plt.yticks([750, 775, 800, 825, 850])\n",
    "\n",
    "blue_patch = mpatches.Patch(color='blue', label='Only exp.')\n",
    "green_patch = mpatches.Patch(color='green', label='Exp. + navigator')\n",
    "red_patch = mpatches.Patch(color='red', label='Exp + navigator + PTA')\n",
    "\n",
    "plt.suptitle(\"Fig. 13: The comparion of dynamic system's average travel times\",\n",
    "             x = 0.4, y = 0.45, fontsize = 12, fontweight = 'normal')\n",
    "\n",
    "plt.legend(handles=[blue_patch, green_patch, red_patch], \n",
    "           bbox_to_anchor=(1.1, 0.65), loc=2, borderaxespad=0.0, fontsize = 10)\n",
    "#plt.savefig('2fig15.png', bbox_inches='tight')\n",
    "plt.show()\n",
    "\n"
   ]
  },
  {
   "cell_type": "code",
   "execution_count": null,
   "metadata": {
    "collapsed": true
   },
   "outputs": [],
   "source": []
  },
  {
   "cell_type": "code",
   "execution_count": null,
   "metadata": {
    "collapsed": true
   },
   "outputs": [],
   "source": []
  },
  {
   "cell_type": "code",
   "execution_count": null,
   "metadata": {
    "collapsed": true
   },
   "outputs": [],
   "source": []
  },
  {
   "cell_type": "code",
   "execution_count": null,
   "metadata": {
    "collapsed": true
   },
   "outputs": [],
   "source": []
  },
  {
   "cell_type": "code",
   "execution_count": null,
   "metadata": {
    "collapsed": false
   },
   "outputs": [],
   "source": [
    "#Decomposition of number of users by method in DS\n",
    "num_PTA_users = [[] for u in range(4)]\n",
    "num_navi_users = [[] for u in range(4)]\n",
    "num_base_users = [[] for u in range(4)]\n",
    "for i in range(len(data['loop'][i])):\n",
    "    for dictionary in data['loop'][i][0]['decomposition']:\n",
    "        num_PTA_users[i].append(dictionary['PTA'])\n",
    "        num_navi_users[i].append(dictionary['navigator'])\n",
    "        num_base_users[i].append(dictionary['base'])\n",
    "num_navi_users[2][1] + num_base_users[2][1] + num_PTA_users[2][1]\n"
   ]
  },
  {
   "cell_type": "code",
   "execution_count": null,
   "metadata": {
    "collapsed": false
   },
   "outputs": [],
   "source": [
    "#Create figure with convergence metrics of dynamic system\n",
    "fig = plt.figure(figsize = (10,7))\n",
    "\n",
    "ax0 = plt.subplot(221)\n",
    "ax0.set_title('800 agents')\n",
    "y = np.row_stack((num_PTA_users[0], num_base_users[0], num_navi_users[0]))\n",
    "x = np.array(list(range(len(num_PTA_users[0]))))\n",
    "plt.stackplot(x, y, colors = ('r', 'b', 'g'))\n",
    "plt.xticks(list(range(0, len(num_PTA_users[0]), 3)))\n",
    "plt.yticks(list(range(0, 2395, 350)))\n",
    "ax0.set_ylim(ymin = 0, ymax = num_PTA_users[0][0] + num_base_users[0][0] + num_navi_users[0][0])\n",
    "ax0.set_xlim(xmin = 0, xmax = len(num_base_users[0])-1)\n",
    "\n",
    "\n",
    "ax1 = plt.subplot(222)\n",
    "ax1.set_title('1200 agents')\n",
    "y = np.row_stack((num_PTA_users[1], num_base_users[1], num_navi_users[1]))\n",
    "plt.stackplot(x, y, colors = ('r', 'b', 'g'))\n",
    "plt.xticks(list(range(0, len(num_PTA_users[0]), 3)))\n",
    "ax1.set_ylim(ymin = 0, ymax = num_PTA_users[1][0] + num_base_users[1][0] + num_navi_users[1][0])\n",
    "#plt.yticks(list(range(0, 2447, 400)))\n",
    "ax1.set_xlim(xmin = 0, xmax = len(num_base_users[0])-1)\n",
    "\n",
    "ax2 = plt.subplot(223)\n",
    "ax2.set_title('1600 agents')\n",
    "y = np.row_stack((num_PTA_users[2], num_base_users[2], num_navi_users[2]))\n",
    "plt.stackplot(x, y, colors = ('r', 'b', 'g'))\n",
    "plt.xticks(list(range(0, len(num_PTA_users[0]), 3)))\n",
    "ax2.set_ylim(ymin = 0, ymax = num_PTA_users[2][0] + num_base_users[2][0] + num_navi_users[2][0])\n",
    "plt.yticks(list(range(0, 4791, 600)))\n",
    "ax2.set_xlim(xmin = 0, xmax = len(num_base_users[0])-1)\n",
    "\n",
    "ax3 = plt.subplot(224)\n",
    "ax3.set_title('2000 agents')\n",
    "y = np.row_stack((num_PTA_users[3], num_base_users[3], num_navi_users[3]))\n",
    "plt.stackplot(x, y, colors = ('r', 'b', 'g'))\n",
    "plt.xticks(list(range(0, len(num_PTA_users[0]), 3)))\n",
    "ax3.set_ylim(ymin = 0, ymax = num_PTA_users[3][0] + num_base_users[3][0] + num_navi_users[3][0])\n",
    "#plt.yticks(list(range(0, 5022, 800)))\n",
    "ax3.set_xlim(xmin = 0, xmax = len(num_base_users[0])-1)\n",
    "\n",
    "plt.suptitle('Fig. 14: The composition of paths based on usage of routing methods with PTA as an option' \n",
    "             + \"\\n\\n(hor. axes - number of iterations, vert. axes - total travel time of the system)\", \n",
    "             x = 0.5, y = 0.05, fontsize = 14, fontweight = 'normal')\n",
    "\n",
    "blue_patch = mpatches.Patch(color='blue', label='Baseline')\n",
    "green_patch = mpatches.Patch(color='green', label='Navigator')\n",
    "red_patch = mpatches.Patch(color='red', label='PTA')\n",
    "\n",
    "plt.legend(handles=[blue_patch, green_patch, red_patch], \n",
    "           bbox_to_anchor=(1.1, 1.3), loc=2, borderaxespad=0.0)\n",
    "\n",
    "plt.savefig('2fig12.png', bbox_inches='tight')\n",
    "plt.show()\n",
    "\n"
   ]
  },
  {
   "cell_type": "code",
   "execution_count": null,
   "metadata": {
    "collapsed": false
   },
   "outputs": [],
   "source": [
    "#Decomposition of number of users by method in DS\n",
    "num_PTA_users2 = [[] for u in range(4)]\n",
    "num_navi_users2 = [[] for u in range(4)]\n",
    "num_base_users2 = [[] for u in range(4)]\n",
    "for i in range(len(data['loop'][i])):\n",
    "    for dictionary in data['loop'][i][0]['decomposition2']:\n",
    "        num_PTA_users2[i].append(dictionary['PTA'])\n",
    "        num_navi_users2[i].append(dictionary['navigator'])\n",
    "        num_base_users2[i].append(dictionary['base'])\n",
    "num_navi_users[2][1] + num_base_users[2][1] + num_PTA_users[2][1]\n"
   ]
  },
  {
   "cell_type": "code",
   "execution_count": null,
   "metadata": {
    "collapsed": false
   },
   "outputs": [],
   "source": [
    "#Create figure with convergence metrics of dynamic system\n",
    "fig = plt.figure(figsize = (10,7))\n",
    "\n",
    "ax0 = plt.subplot(221)\n",
    "ax0.set_title('800 agents')\n",
    "y = np.row_stack((num_PTA_users2[0], num_base_users2[0], num_navi_users2[0]))\n",
    "x = np.array(list(range(len(num_PTA_users2[0]))))\n",
    "plt.stackplot(x, y, colors = ('r', 'b', 'g'))\n",
    "plt.xticks(list(range(0, len(num_PTA_users2[0]), 3)))\n",
    "plt.yticks(list(range(0, 2395, 350)))\n",
    "ax0.set_ylim(ymin = 0, ymax = num_PTA_users2[0][0] + num_base_users2[0][0] + num_navi_users2[0][0])\n",
    "ax0.set_xlim(xmin = 0, xmax = len(num_base_users2[0])-1)\n",
    "\n",
    "\n",
    "ax1 = plt.subplot(222)\n",
    "ax1.set_title('1200 agents')\n",
    "y = np.row_stack((num_PTA_users2[1], num_base_users2[1], num_navi_users2[1]))\n",
    "plt.stackplot(x, y, colors = ('r', 'b', 'g'))\n",
    "plt.xticks(list(range(0, len(num_PTA_users2[0]), 3)))\n",
    "ax1.set_ylim(ymin = 0, ymax = num_PTA_users2[1][0] + num_base_users2[1][0] + num_navi_users2[1][0])\n",
    "#plt.yticks(list(range(0, 2447, 400)))\n",
    "ax1.set_xlim(xmin = 0, xmax = len(num_base_users2[0])-1)\n",
    "\n",
    "ax2 = plt.subplot(223)\n",
    "ax2.set_title('1600 agents')\n",
    "y = np.row_stack((num_PTA_users2[2], num_base_users2[2], num_navi_users2[2]))\n",
    "plt.stackplot(x, y, colors = ('r', 'b', 'g'))\n",
    "plt.xticks(list(range(0, len(num_PTA_users2[0]), 3)))\n",
    "ax2.set_ylim(ymin = 0, ymax = num_PTA_users2[2][0] + num_base_users2[2][0] + num_navi_users2[2][0])\n",
    "plt.yticks(list(range(0, 4791, 600)))\n",
    "ax2.set_xlim(xmin = 0, xmax = len(num_base_users2[0])-1)\n",
    "\n",
    "ax3 = plt.subplot(224)\n",
    "ax3.set_title('2000 agents')\n",
    "y = np.row_stack((num_PTA_users2[3], num_base_users2[3], num_navi_users2[3]))\n",
    "plt.stackplot(x, y, colors = ('r', 'b', 'g'))\n",
    "plt.xticks(list(range(0, len(num_PTA_users2[0]), 3)))\n",
    "ax3.set_ylim(ymin = 0, ymax = num_PTA_users2[3][0] + num_base_users2[3][0] + num_navi_users2[3][0])\n",
    "#plt.yticks(list(range(0, 5022, 800)))\n",
    "ax3.set_xlim(xmin = 0, xmax = len(num_base_users2[0])-1)\n",
    "\n",
    "plt.suptitle('Fig. 15: The composition of paths based on usage of routing methods without PTA as an option' \n",
    "             + \"\\n\\n(hor. axes - number of iterations, vert. axes - total travel time of the system)\", \n",
    "             x = 0.5, y = 0.05, fontsize = 14, fontweight = 'normal')\n",
    "\n",
    "blue_patch = mpatches.Patch(color='blue', label='Baseline')\n",
    "green_patch = mpatches.Patch(color='green', label='Navigator')\n",
    "\n",
    "plt.legend(handles=[blue_patch, green_patch], \n",
    "           bbox_to_anchor=(1.1, 1.3), loc=2, borderaxespad=0.0)\n",
    "\n",
    "plt.savefig('2fig13.png', bbox_inches='tight')\n",
    "plt.show()\n"
   ]
  },
  {
   "cell_type": "code",
   "execution_count": null,
   "metadata": {
    "collapsed": true
   },
   "outputs": [],
   "source": []
  },
  {
   "cell_type": "code",
   "execution_count": null,
   "metadata": {
    "collapsed": true
   },
   "outputs": [],
   "source": []
  },
  {
   "cell_type": "code",
   "execution_count": null,
   "metadata": {
    "collapsed": true
   },
   "outputs": [],
   "source": []
  },
  {
   "cell_type": "code",
   "execution_count": null,
   "metadata": {
    "collapsed": true
   },
   "outputs": [],
   "source": [
    "#End of figure-drawing"
   ]
  },
  {
   "cell_type": "code",
   "execution_count": null,
   "metadata": {
    "collapsed": true
   },
   "outputs": [],
   "source": [
    "#Dynamic system"
   ]
  },
  {
   "cell_type": "code",
   "execution_count": null,
   "metadata": {
    "collapsed": true
   },
   "outputs": [],
   "source": [
    "dynamic_simulation = dynamic_system(graph = G, agents = agents, max_time = simulation2.max_time,\n",
    "                                    historical_data = simulation2.statistics[0],\n",
    "                                    common_sense = deepcopy(simulation.common_sense),\n",
    "                                    cars_ahead = simulation2.cars_ahead, all_three = True)"
   ]
  },
  {
   "cell_type": "code",
   "execution_count": null,
   "metadata": {
    "collapsed": false
   },
   "outputs": [],
   "source": [
    "dynamic_simulation.restore_all_agents_finally()\n",
    "dynamic_simulation.simulation_optimized(max_iters = 1)"
   ]
  },
  {
   "cell_type": "code",
   "execution_count": null,
   "metadata": {
    "collapsed": false
   },
   "outputs": [],
   "source": []
  },
  {
   "cell_type": "code",
   "execution_count": null,
   "metadata": {
    "collapsed": false
   },
   "outputs": [],
   "source": [
    "def user_decomposition(dynamic_simulation):    \n",
    "    decomposition = \\\n",
    "    [dict() for a in range(dynamic_simulation.num_baseline_iters, len(dynamic_simulation.common_sense))]\n",
    "    for iteration in range(dynamic_simulation.num_baseline_iters, len(dynamic_simulation.common_sense)):\n",
    "        base = 0\n",
    "        PTA = 0\n",
    "        navi = 0\n",
    "        for a in dynamic_simulation.common_sense[iteration]:\n",
    "            for p in range(len(a.paths)):\n",
    "                if a.path_type[p] == 'baseline':\n",
    "                    base += 1\n",
    "                elif a.path_type[p] == 'navigator':\n",
    "                    navi += 1\n",
    "                elif a.path_type[p] == 'PTA':\n",
    "                    PTA += 1\n",
    "        decomposition[iteration - dynamic_simulation.num_baseline_iters]['base'] = base\n",
    "        decomposition[iteration - dynamic_simulation.num_baseline_iters]['navigator'] = navi\n",
    "        decomposition[iteration - dynamic_simulation.num_baseline_iters]['PTA'] = PTA\n",
    "    return decomposition\n",
    "        #print('Base', base)\n",
    "        #print('Navi', navi)\n",
    "        #print('PTA', PTA)\n",
    "        #print('-------------Iteration', iteration, 'ended-----------------')"
   ]
  },
  {
   "cell_type": "code",
   "execution_count": null,
   "metadata": {
    "collapsed": false
   },
   "outputs": [],
   "source": [
    "dec = user_decomposition(dynamic_simulation)\n",
    "dec"
   ]
  },
  {
   "cell_type": "code",
   "execution_count": null,
   "metadata": {
    "collapsed": false
   },
   "outputs": [],
   "source": [
    "compare_results(dynamic_simulation, simulation2, simulation3)"
   ]
  },
  {
   "cell_type": "code",
   "execution_count": null,
   "metadata": {
    "collapsed": false
   },
   "outputs": [],
   "source": []
  },
  {
   "cell_type": "code",
   "execution_count": null,
   "metadata": {
    "collapsed": false
   },
   "outputs": [],
   "source": []
  },
  {
   "cell_type": "code",
   "execution_count": null,
   "metadata": {
    "collapsed": true
   },
   "outputs": [],
   "source": []
  }
 ],
 "metadata": {
  "anaconda-cloud": {},
  "kernelspec": {
   "display_name": "Python [conda root]",
   "language": "python",
   "name": "conda-root-py"
  },
  "language_info": {
   "codemirror_mode": {
    "name": "ipython",
    "version": 3
   },
   "file_extension": ".py",
   "mimetype": "text/x-python",
   "name": "python",
   "nbconvert_exporter": "python",
   "pygments_lexer": "ipython3",
   "version": "3.5.2"
  }
 },
 "nbformat": 4,
 "nbformat_minor": 1
}
