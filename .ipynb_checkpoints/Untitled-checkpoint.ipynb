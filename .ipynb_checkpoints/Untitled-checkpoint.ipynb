{
 "cells": [
  {
   "cell_type": "code",
   "execution_count": null,
   "metadata": {
    "collapsed": true
   },
   "outputs": [],
   "source": [
    "from IPython.display import display\n",
    "\n",
    "import time\n",
    "import importlib\n",
    "import sys\n",
    "try:\n",
    "    importlib.reload(sys.modules['Initialize_graph'])\n",
    "except KeyError:\n",
    "    pass\n",
    "\n",
    "import networkx as nx\n",
    "import matplotlib.pyplot as plt\n",
    "import random as rd\n",
    "import numpy as np\n",
    "\n",
    "from Initialize_graph import create_weighted_random_graph"
   ]
  },
  {
   "cell_type": "code",
   "execution_count": null,
   "metadata": {
    "collapsed": false
   },
   "outputs": [],
   "source": [
    "G1 = create_weighted_random_graph(n_nodes = 5, \n",
    "                                 n_edges = 15, \n",
    "                                 weights_from = 10, \n",
    "                                 weights_to = 30, \n",
    "                                 time_slot_size = 0.01)\n",
    "G2 = create_weighted_random_graph(n_nodes = 5, \n",
    "                                 n_edges = 15, \n",
    "                                 weights_from = 10, \n",
    "                                 weights_to = 30, \n",
    "                                 time_slot_size = 0.01)\n",
    "G3 = create_weighted_random_graph(n_nodes = 5, \n",
    "                                 n_edges = 15, \n",
    "                                 weights_from = 10, \n",
    "                                 weights_to = 30, \n",
    "                                 time_slot_size = 0.01)\n",
    "G4 = create_weighted_random_graph(n_nodes = 5, \n",
    "                                 n_edges = 15, \n",
    "                                 weights_from = 10, \n",
    "                                 weights_to = 30, \n",
    "                                 time_slot_size = 0.01)"
   ]
  },
  {
   "cell_type": "code",
   "execution_count": null,
   "metadata": {
    "collapsed": false
   },
   "outputs": [],
   "source": [
    "#pos = nx.spring_layout(graph)\n",
    "#pos = nx.circular_layout(graph)\n",
    "#pos = nx.fruchterman_reingold_layout(graph)\n",
    "fig = plt.figure(1)\n",
    "fig.set_figheight(10)\n",
    "fig.set_figwidth(12)\n",
    "\n",
    "plt.subplot(221)\n",
    "#pos1 = nx.spectral_layout(G1)\n",
    "pos1 = nx.circular_layout(G1)\n",
    "#for k,v in pos1.items():\n",
    "    # Shift the x values of every node by 10 to the right\n",
    "    #v[0] = v[0] +30\n",
    "nx.draw_networkx(G1, pos = pos1, node_size = 200, font_size = 10, label = 'fig 2')\n",
    "labels = nx.get_edge_attributes(G1, 'weight')\n",
    "nx.draw_networkx_edge_labels(G1, pos = pos1, edge_labels = labels, font_size = 10)\n",
    "plt.axis('off')\n",
    "\n",
    "plt.subplot(222)\n",
    "pos2 = nx.spectral_layout(G2)\n",
    "nx.draw_networkx(G2, pos = pos2, node_size = 200, font_size = 10, label = 'fig 2')\n",
    "labels = nx.get_edge_attributes(G2, 'weight')\n",
    "nx.draw_networkx_edge_labels(G2, pos = pos2, edge_labels = labels, font_size = 10)\n",
    "plt.axis('off')\n",
    "\n",
    "plt.subplot(223)\n",
    "#pos3 = nx.spectral_layout(G3)\n",
    "pos3 = nx.circular_layout(G3)\n",
    "nx.draw_networkx(G3, pos = pos3, node_size = 200, font_size = 10, label = 'fig 2')\n",
    "labels = nx.get_edge_attributes(G3, 'weight')\n",
    "nx.draw_networkx_edge_labels(G3, pos = pos3, edge_labels = labels, font_size = 10)\n",
    "plt.axis('off')\n",
    "\n",
    "plt.subplot(224)\n",
    "pos4 = nx.spectral_layout(G4)\n",
    "nx.draw_networkx(G4, pos = pos4, node_size = 200, font_size = 10, label = 'fig 2')\n",
    "labels = nx.get_edge_attributes(G4, 'weight')\n",
    "nx.draw_networkx_edge_labels(G4, pos = pos4, edge_labels = labels, font_size = 10)\n",
    "plt.axis('off')\n",
    "\n",
    "#\n",
    "plt.suptitle('Fig. 1: 4 randomly generated graphs with 5 nodes, random number of edges \\n and weights ranging from 10 to 30', \n",
    "             x = 0.5, y = 0.12, fontsize = 14, fontweight = 'normal')\n",
    "\n",
    "plt.savefig('fig1.png', bbox_inches='tight')\n",
    "plt.show()"
   ]
  },
  {
   "cell_type": "code",
   "execution_count": null,
   "metadata": {
    "collapsed": false
   },
   "outputs": [],
   "source": []
  },
  {
   "cell_type": "code",
   "execution_count": null,
   "metadata": {
    "collapsed": false
   },
   "outputs": [],
   "source": []
  },
  {
   "cell_type": "code",
   "execution_count": null,
   "metadata": {
    "collapsed": true
   },
   "outputs": [],
   "source": [
    "import matplotlib.pyplot as plt"
   ]
  },
  {
   "cell_type": "code",
   "execution_count": null,
   "metadata": {
    "collapsed": false
   },
   "outputs": [],
   "source": [
    "fig = plt.figure(figsize = (6,4))\n",
    "fig.suptitle('Fig. 2: Speed vs number of cars ahead', x = 0.5, y = -0.05, fontsize = 13, fontweight = 'normal')\n",
    "ax = fig.add_subplot(111)\n",
    "ax.set_xlabel('Number of cars ahead')\n",
    "ax.set_ylabel('Speed (km/h)')\n",
    "fig = plt.scatter(x = list(a.keys())[1:], y = list(a.values())[1:], s = 30, c = 'r')\n",
    "ax.set_xlim(xmin=0)\n",
    "plt.savefig('fig2.png', bbox_inches='tight')\n",
    "plt.show()"
   ]
  },
  {
   "cell_type": "code",
   "execution_count": null,
   "metadata": {
    "collapsed": false
   },
   "outputs": [],
   "source": []
  },
  {
   "cell_type": "code",
   "execution_count": null,
   "metadata": {
    "collapsed": true
   },
   "outputs": [],
   "source": [
    "def speed_revisited(number_of_cars_before_agent_on_an_edge):\n",
    "        speed = 60\n",
    "        if number_of_cars_before_agent_on_an_edge <= 2:\n",
    "            speed = speed\n",
    "        elif number_of_cars_before_agent_on_an_edge <= 4 and \\\n",
    "        number_of_cars_before_agent_on_an_edge > 2:\n",
    "            speed = speed - 10\n",
    "        elif number_of_cars_before_agent_on_an_edge <= 6 and \\\n",
    "        number_of_cars_before_agent_on_an_edge > 4:\n",
    "            speed = speed - 20\n",
    "        elif number_of_cars_before_agent_on_an_edge <= 8 and \\\n",
    "        number_of_cars_before_agent_on_an_edge > 6:\n",
    "            speed = speed - 30\n",
    "        elif number_of_cars_before_agent_on_an_edge <= 10 and \\\n",
    "        number_of_cars_before_agent_on_an_edge > 8:\n",
    "            speed = speed - 30\n",
    "        elif number_of_cars_before_agent_on_an_edge <= 12 and \\\n",
    "        number_of_cars_before_agent_on_an_edge > 10:\n",
    "            speed = speed - 40\n",
    "        elif number_of_cars_before_agent_on_an_edge > 12:\n",
    "            speed = speed - 50\n",
    "        return int(speed)"
   ]
  }
 ],
 "metadata": {
  "anaconda-cloud": {},
  "kernelspec": {
   "display_name": "Python [conda root]",
   "language": "python",
   "name": "conda-root-py"
  },
  "language_info": {
   "codemirror_mode": {
    "name": "ipython",
    "version": 3
   },
   "file_extension": ".py",
   "mimetype": "text/x-python",
   "name": "python",
   "nbconvert_exporter": "python",
   "pygments_lexer": "ipython3",
   "version": "3.5.2"
  }
 },
 "nbformat": 4,
 "nbformat_minor": 1
}
