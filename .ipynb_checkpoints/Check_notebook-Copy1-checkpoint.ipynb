{
 "cells": [
  {
   "cell_type": "code",
   "execution_count": null,
   "metadata": {
    "collapsed": false
   },
   "outputs": [],
   "source": [
    "#Import all the stuff that is done by now\n",
    "\n",
    "import networkx as nx\n",
    "import matplotlib.pyplot as plt\n",
    "import random as rd\n",
    "\n",
    "from Initialize_graph import create_weighted_random_graph\n",
    "from Initialize_graph import draw_graph\n",
    "from Initialize_agents import Agent\n",
    "from Initialize_agents import create_list_of_agents\n",
    "from Simulation_stuff import speed_revisited\n",
    "\n",
    "from Simulation_stuff import calculate_expected_edge_time_for_edge\n",
    "from Simulation_stuff import calculate_real_edge_time_for_edge\n",
    "from Simulation_stuff import simulation_iteration"
   ]
  },
  {
   "cell_type": "code",
   "execution_count": null,
   "metadata": {
    "collapsed": false
   },
   "outputs": [],
   "source": [
    "#Initialize graph\n",
    "G = create_weighted_random_graph(n_nodes= 5, n_edges=10, weights_from=10, weights_to=30, time_slot_size = 0.01)\n",
    "#agents = create_list_of_agents(num_agents = 300, graph = G, time_stamp = 0.01)"
   ]
  },
  {
   "cell_type": "code",
   "execution_count": null,
   "metadata": {
    "collapsed": false
   },
   "outputs": [],
   "source": [
    "#Make a simulation n times (just substitute 1 below by n)\n",
    "for i in range(1):\n",
    "    print('Iteration', i)\n",
    "    agents = create_list_of_agents(num_agents = 300, graph = G, time_stamp = 0.01)\n",
    "    simulation_iteration(agents, G, time_stamp = 0.01, max_time = 28)\n",
    "\n",
    "#For every simulation check \n",
    "#1) Whether every agent complited all the paths assigned to him.\n",
    "#2) Whether every agent started next trip only after finishing previous one.\n",
    "#3) Whether expected times of departures are different from real times of departure\n",
    "\n",
    "    for a in agents:\n",
    "        for p in range(1,len(a.paths)):\n",
    "            if a.paths[p] == None:\n",
    "                print('--------------------------------------------------------------------------------------')\n",
    "                print('Error in paths','iteration', i)\n",
    "                print('ID', a.id_num)\n",
    "                print('Real_edge_times', a.real_edge_times)\n",
    "                continue\n",
    "            else:\n",
    "                #print('ID', a.id_num)\n",
    "                if a.real_edge_times[p][0][0] < a.real_edge_times[p-1][-1][1] or\\\n",
    "                a.expected_edge_times[p][0][0] < a.expected_edge_times[p-1][-1][1]:\n",
    "                    print('--------------------------------------------------------------------------------------')\n",
    "                    print('Error, broken times of departures', 'iteration', i)\n",
    "                    print('ID', a.id_num)\n",
    "                    print('Expected_edge_times', a.expected_edge_times)\n",
    "                    print('Real_edge_times', a.real_edge_times)\n",
    "            \n",
    "            if a.expected_edge_times[p][0][0] != a.real_edge_times[p][0][0]:\n",
    "                print('--------------------------------------------------------------------------------------')\n",
    "                print('Different expected and real times')\n",
    "                print('ID', a.id_num)\n",
    "                print('Expected_edge_times', a.expected_edge_times)\n",
    "                print('Real_edge_times', a.real_edge_times)\n",
    "                "
   ]
  },
  {
   "cell_type": "code",
   "execution_count": null,
   "metadata": {
    "collapsed": false
   },
   "outputs": [],
   "source": [
    "#Prints info about some agent in last simulation\n",
    "\n",
    "i = 289\n",
    "print('------AGENT %s------' %i)\n",
    "print('Num of trips', agents[i].num_trips)\n",
    "print('Paths', agents[i].paths)\n",
    "print('Departures', agents[i].times_of_departures)\n",
    "print('---------------------------------------------------------------------------------------------------')\n",
    "print('Expected_edge_times', agents[i].expected_edge_times)\n",
    "print('---------------------------------------------------------------------------------------------------')\n",
    "print('real_edge_times',agents[i].real_edge_times)\n",
    "print('---------------------------------------------------------------------------------------------------')\n",
    "print('Speed by time', agents[i].speed_by_time)\n",
    "#print('Memorized Weights')\n",
    "#print(agents[i].memorized_weights)\n",
    "print('---------------------------------------------------------------------------------------------------')\n",
    "print('Edges passed', agents[i].edges_passed)"
   ]
  },
  {
   "cell_type": "code",
   "execution_count": null,
   "metadata": {
    "collapsed": false
   },
   "outputs": [],
   "source": [
    "#Function that outputs the id's of agents whose expectations about travel times for a trip\n",
    "#are confronted by reality and the difference between  them is more than value\n",
    "def differences_between_expectations_and_reality(agents, value):\n",
    "    for a in agents:\n",
    "        for p in range(len(a.paths)):\n",
    "            for edge in range(len(a.real_edge_times[p])):\n",
    "                if a.real_edge_times[p][edge][1] - a.expected_edge_times[p][edge][1] >= value:\n",
    "                    print(a.id_num)\n",
    "                    \n",
    "differences_between_expectations_and_reality(agents, 1.4)"
   ]
  },
  {
   "cell_type": "code",
   "execution_count": null,
   "metadata": {
    "collapsed": false
   },
   "outputs": [],
   "source": []
  },
  {
   "cell_type": "code",
   "execution_count": null,
   "metadata": {
    "collapsed": false
   },
   "outputs": [],
   "source": [
    "#Small check to see id's of agents who arrive later than some time (currently 28)\n",
    "for a in agents:\n",
    "    for p in range(len(a.paths)):\n",
    "        for edge in range(len(a.real_edge_times[p])):\n",
    "            if a.real_edge_times[p][edge][1] >= 28:\n",
    "                print(a.id_num)"
   ]
  },
  {
   "cell_type": "code",
   "execution_count": null,
   "metadata": {
    "collapsed": false
   },
   "outputs": [],
   "source": [
    "nx.get_edge_attributes(G, 'weight')"
   ]
  },
  {
   "cell_type": "code",
   "execution_count": null,
   "metadata": {
    "collapsed": true
   },
   "outputs": [],
   "source": []
  },
  {
   "cell_type": "code",
   "execution_count": null,
   "metadata": {
    "collapsed": false
   },
   "outputs": [],
   "source": []
  },
  {
   "cell_type": "code",
   "execution_count": null,
   "metadata": {
    "collapsed": true
   },
   "outputs": [],
   "source": []
  }
 ],
 "metadata": {
  "anaconda-cloud": {},
  "kernelspec": {
   "display_name": "Python [conda root]",
   "language": "python",
   "name": "conda-root-py"
  },
  "language_info": {
   "codemirror_mode": {
    "name": "ipython",
    "version": 3
   },
   "file_extension": ".py",
   "mimetype": "text/x-python",
   "name": "python",
   "nbconvert_exporter": "python",
   "pygments_lexer": "ipython3",
   "version": "3.5.2"
  }
 },
 "nbformat": 4,
 "nbformat_minor": 1
}
