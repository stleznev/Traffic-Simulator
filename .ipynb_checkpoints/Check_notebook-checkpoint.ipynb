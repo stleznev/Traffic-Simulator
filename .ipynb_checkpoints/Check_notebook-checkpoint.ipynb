{
 "cells": [
  {
   "cell_type": "code",
   "execution_count": 1,
   "metadata": {
    "collapsed": false
   },
   "outputs": [],
   "source": [
    "#Import all the stuff that is done by now\n",
    "\n",
    "import networkx as nx\n",
    "import matplotlib.pyplot as plt\n",
    "import random as rd\n",
    "\n",
    "from Initialize_graph import create_weighted_random_graph, draw_graph\n",
    "from Initialize_agents import Agent, create_list_of_agents\n",
    "\n",
    "from dijkstra import find_index_2_levels, calculate_subjective_weight_for_edge_time, \\\n",
    "dijkstra_with_time_dependent_weights, get_path\n",
    "\n",
    "from Simulation_loop import simulation_baseline"
   ]
  },
  {
   "cell_type": "code",
   "execution_count": 4,
   "metadata": {
    "collapsed": false
   },
   "outputs": [],
   "source": [
    "#Initialize graph\n",
    "G = create_weighted_random_graph(n_nodes= 5, n_edges=8, weights_from=10, weights_to=30, time_slot_size = 0.01)"
   ]
  },
  {
   "cell_type": "code",
   "execution_count": 7,
   "metadata": {
    "collapsed": false
   },
   "outputs": [
    {
     "data": {
      "image/png": "[encoded data removed]",
      "text/plain": [
       "<matplotlib.figure.Figure at 0x10f9439e8>"
      ]
     },
     "metadata": {},
     "output_type": "display_data"
    }
   ],
   "source": [
    "#Draw graph\n",
    "draw_graph(G)"
   ]
  },
  {
   "cell_type": "code",
   "execution_count": null,
   "metadata": {
    "collapsed": true
   },
   "outputs": [],
   "source": [
    "agents = create_list_of_agents(num_agents = 300, graph = G, time_stamp = 0.01)"
   ]
  },
  {
   "cell_type": "code",
   "execution_count": null,
   "metadata": {
    "collapsed": true
   },
   "outputs": [],
   "source": [
    "simul_iter = simulation_baseline(G, agents, number_of_iterations = 5, max_time = 28)"
   ]
  },
  {
   "cell_type": "code",
   "execution_count": null,
   "metadata": {
    "collapsed": true
   },
   "outputs": [],
   "source": [
    "simul_iter.simulation_iteration(max_time = 28)"
   ]
  },
  {
   "cell_type": "code",
   "execution_count": null,
   "metadata": {
    "collapsed": true
   },
   "outputs": [],
   "source": [
    "#For every iteration of simulation check \n",
    "#1) Whether every agent complited all the paths assigned to him.\n",
    "#2) Whether every agent started next trip only after finishing previous one.\n",
    "#3) Whether expected times of departures are different from real times of departure\n",
    "\n",
    "for a in simul_iter.agents:\n",
    "    for p in range(1,len(a.paths)):\n",
    "        if a.paths[p] == None:\n",
    "            print('--------------------------------------------------------------------------------------')\n",
    "            print('Error in paths','iteration', i)\n",
    "            print('ID', a.id_num)\n",
    "            print('Real_edge_times', a.real_edge_times)\n",
    "            continue\n",
    "        else:\n",
    "            #print('ID', a.id_num)\n",
    "            if a.real_edge_times[p][0][0] < a.real_edge_times[p-1][-1][1] or\\\n",
    "            a.expected_edge_times[p][0][0] < a.expected_edge_times[p-1][-1][1]:\n",
    "                print('--------------------------------------------------------------------------------------')\n",
    "                print('Error, broken times of departures', 'iteration', i)\n",
    "                print('ID', a.id_num)\n",
    "                print('Expected_edge_times', a.expected_edge_times)\n",
    "                print('Real_edge_times', a.real_edge_times)\n",
    "\n",
    "        if a.expected_edge_times[p][0][0] != a.real_edge_times[p][0][0]:\n",
    "            print('--------------------------------------------------------------------------------------')\n",
    "            print('Different expected and real times')\n",
    "            print('ID', a.id_num)\n",
    "            print('Expected_edge_times', a.expected_edge_times)\n",
    "            print('Real_edge_times', a.real_edge_times)"
   ]
  },
  {
   "cell_type": "code",
   "execution_count": null,
   "metadata": {
    "collapsed": true
   },
   "outputs": [],
   "source": []
  },
  {
   "cell_type": "code",
   "execution_count": null,
   "metadata": {
    "collapsed": true
   },
   "outputs": [],
   "source": []
  },
  {
   "cell_type": "code",
   "execution_count": null,
   "metadata": {
    "collapsed": false
   },
   "outputs": [],
   "source": [
    "#Small check to see id's of agents who arrive later than some time (currently 28)\n",
    "for a in agents:\n",
    "    for p in range(len(a.paths)):\n",
    "        for edge in range(len(a.real_edge_times[p])):\n",
    "            if a.real_edge_times[p][edge][1] >= 28:\n",
    "                print(a.id_num)"
   ]
  },
  {
   "cell_type": "code",
   "execution_count": null,
   "metadata": {
    "collapsed": false
   },
   "outputs": [],
   "source": [
    "#FIFO property check\n",
    "for a in agents[:20]:\n",
    "    for p in range(len(a.paths)):\n",
    "        for edge in a.edges_passed[p]:\n",
    "            check_list = [G[edge[0]][edge[1]]['weight']]\n",
    "            for i in range(0,24*100):\n",
    "                t = float(i/100)\n",
    "                check_list.append(calculate_subjective_weight_for_edge_time(agent = a, time= t , edge = edge))\n",
    "                #print('ID', a.id_num, 'path', p, 'edge', edge, 'time', t)\n",
    "                #print(check_list[-1])\n",
    "                if t + check_list[-1]/60 <= round(t - 0.01, 2) + check_list[-2]/60:\n",
    "                    print('FIFO is not satisfied')\n",
    "                    print('ID',a.id_num,'Path', p, 'Edge', edge, 'Time', t)\n",
    "                    break"
   ]
  },
  {
   "cell_type": "code",
   "execution_count": 11,
   "metadata": {
    "collapsed": false
   },
   "outputs": [
    {
     "name": "stdout",
     "output_type": "stream",
     "text": [
      "Equality: True\n",
      "Equality: True\n",
      "Equality: True\n",
      "Equality: True\n",
      "Equality: True\n"
     ]
    }
   ],
   "source": []
  },
  {
   "cell_type": "code",
   "execution_count": 37,
   "metadata": {
    "collapsed": false
   },
   "outputs": [],
   "source": []
  },
  {
   "cell_type": "code",
   "execution_count": 65,
   "metadata": {
    "collapsed": false
   },
   "outputs": [
    {
     "name": "stdout",
     "output_type": "stream",
     "text": [
      "22\n",
      "56\n",
      "134\n",
      "141\n",
      "153\n",
      "241\n",
      "274\n",
      "287\n"
     ]
    }
   ],
   "source": [
    "#Function that outputs the id's of agents whose expectations about travel times for a trip\n",
    "#are confronted by reality and the difference between them is more than value\n",
    "\n",
    "def differences_between_expectations_and_reality(agents, value):\n",
    "    for a in agents:\n",
    "        for p in range(len(a.paths)):\n",
    "            for edge in range(len(a.real_edge_times[p])):\n",
    "                if a.real_edge_times[p][edge][1] - a.expected_edge_times[p][edge][1] >= value:\n",
    "                    print(a.id_num)\n",
    "                    \n",
    "differences_between_expectations_and_reality(agents = simul_iter.statistics[0], value = 0.4)"
   ]
  },
  {
   "cell_type": "code",
   "execution_count": null,
   "metadata": {
    "collapsed": true
   },
   "outputs": [],
   "source": [
    "#Prints info about some agent in last simulation\n",
    "\n",
    "i = 0\n",
    "print('------AGENT %s------' %i)\n",
    "print('Num of trips', agents[i].num_trips)\n",
    "print('Paths', agents[i].paths)\n",
    "print('Departures', agents[i].times_of_departures)\n",
    "print('---------------------------------------------------------------------------------------------------')\n",
    "print('Expected_edge_times', agents[i].expected_edge_times)\n",
    "print('---------------------------------------------------------------------------------------------------')\n",
    "print('real_edge_times',agents[i].real_edge_times)\n",
    "print('---------------------------------------------------------------------------------------------------')\n",
    "print('Speed by time', agents[i].speed_by_time)\n",
    "#print('Memorized Weights')\n",
    "#print(agents[i].memorized_weights)\n",
    "print('---------------------------------------------------------------------------------------------------')\n",
    "print('Edges passed', agents[i].edges_passed)"
   ]
  }
 ],
 "metadata": {
  "anaconda-cloud": {},
  "kernelspec": {
   "display_name": "Python [conda root]",
   "language": "python",
   "name": "conda-root-py"
  },
  "language_info": {
   "codemirror_mode": {
    "name": "ipython",
    "version": 3
   },
   "file_extension": ".py",
   "mimetype": "text/x-python",
   "name": "python",
   "nbconvert_exporter": "python",
   "pygments_lexer": "ipython3",
   "version": "3.5.2"
  }
 },
 "nbformat": 4,
 "nbformat_minor": 1
}
